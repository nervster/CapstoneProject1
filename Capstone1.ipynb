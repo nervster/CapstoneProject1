{
 "cells": [
  {
   "cell_type": "code",
   "execution_count": 11,
   "metadata": {},
   "outputs": [],
   "source": [
    "import pandas as pd\n",
    "import numpy as np\n"
   ]
  },
  {
   "cell_type": "code",
   "execution_count": 4,
   "metadata": {},
   "outputs": [],
   "source": [
    "df_application_train = pd.read_csv('application_train.csv',header=0,error_bad_lines=False,index_col=0,nrows=5000)\n",
    "df_previous_application = pd.read_csv('previous_application.csv',header=0,error_bad_lines=False,index_col=0,nrows=5000)\n",
    "df_installment_payments = pd.read_csv('installments_payments.csv',header=0,error_bad_lines=False,index_col=0,nrows=5000)\n",
    "df_bureau = pd.read_csv('bureau.csv',header=0,error_bad_lines=False,index_col=0,nrows=5000)\n",
    "df_bureau_bal = pd.read_csv('bureau_balance.csv',header=0,error_bad_lines=False,index_col=0,nrows=5000)\n",
    "df_pos_cash_bal = pd.read_csv('POS_CASH_balance.csv',header=0,error_bad_lines=False,index_col=0,nrows=5000)\n",
    "df_credit_card_bal = pd.read_csv('credit_card_balance.csv',header=0,error_bad_lines=False,nrows=5000)\n",
    "\n",
    "dflist = [df_application_train,df_previous_application,df_installment_payments,df_bureau,df_bureau_bal,df_pos_cash_bal,df_credit_card_bal]\n"
   ]
  },
  {
   "cell_type": "code",
   "execution_count": 5,
   "metadata": {},
   "outputs": [],
   "source": [
    "df = df_application_train.merge(df_previous_application,on =['SK_ID_CURR'],suffixes=('_app_train','_prev_app'))\n"
   ]
  },
  {
   "cell_type": "code",
   "execution_count": 9,
   "metadata": {},
   "outputs": [
    {
     "data": {
      "text/plain": [
       "Index(['SK_ID_BUREAU', 'CREDIT_ACTIVE', 'CREDIT_CURRENCY', 'DAYS_CREDIT',\n",
       "       'CREDIT_DAY_OVERDUE', 'DAYS_CREDIT_ENDDATE', 'DAYS_ENDDATE_FACT',\n",
       "       'AMT_CREDIT_MAX_OVERDUE', 'CNT_CREDIT_PROLONG', 'AMT_CREDIT_SUM',\n",
       "       'AMT_CREDIT_SUM_DEBT', 'AMT_CREDIT_SUM_LIMIT', 'AMT_CREDIT_SUM_OVERDUE',\n",
       "       'CREDIT_TYPE', 'DAYS_CREDIT_UPDATE', 'AMT_ANNUITY'],\n",
       "      dtype='object')"
      ]
     },
     "execution_count": 9,
     "metadata": {},
     "output_type": "execute_result"
    }
   ],
   "source": [
    "df_bureau.columns"
   ]
  },
  {
   "cell_type": "code",
   "execution_count": 12,
   "metadata": {},
   "outputs": [],
   "source": [
    "df_bureau_pivot = pd.pivot_table(df_bureau,values=df_bureau.columns,index='SK_ID_CURR',aggfunc={'SK_ID_BUREAU':'count','CREDIT_ACTIVE':'count','CREDIT_CURRENCY':(lambda x: len(x.unique())),'DAYS_CREDIT':np.min,'CREDIT_DAY_OVERDUE':'sum','DAYS_CREDIT_ENDDATE':'sum', 'DAYS_ENDDATE_FACT':'sum', 'AMT_CREDIT_MAX_OVERDUE':'sum', 'CNT_CREDIT_PROLONG':'sum', 'AMT_CREDIT_SUM':'sum','AMT_CREDIT_SUM_DEBT':'sum', 'AMT_CREDIT_SUM_LIMIT':'sum', 'AMT_CREDIT_SUM_OVERDUE':'sum',\n",
    "       'CREDIT_TYPE':(lambda x: len(x.unique())), 'DAYS_CREDIT_UPDATE':np.min, 'AMT_ANNUITY':'sum'})"
   ]
  },
  {
   "cell_type": "code",
   "execution_count": 15,
   "metadata": {},
   "outputs": [
    {
     "name": "stdout",
     "output_type": "stream",
     "text": [
      "<class 'pandas.core.frame.DataFrame'>\n",
      "Int64Index: 1004 entries, 100568 to 456116\n",
      "Data columns (total 16 columns):\n",
      "AMT_ANNUITY               1004 non-null float64\n",
      "AMT_CREDIT_MAX_OVERDUE    1004 non-null float64\n",
      "AMT_CREDIT_SUM            1004 non-null float64\n",
      "AMT_CREDIT_SUM_DEBT       1004 non-null float64\n",
      "AMT_CREDIT_SUM_LIMIT      1004 non-null float64\n",
      "AMT_CREDIT_SUM_OVERDUE    1004 non-null float64\n",
      "CNT_CREDIT_PROLONG        1004 non-null int64\n",
      "CREDIT_ACTIVE             1004 non-null int64\n",
      "CREDIT_CURRENCY           1004 non-null int64\n",
      "CREDIT_DAY_OVERDUE        1004 non-null int64\n",
      "CREDIT_TYPE               1004 non-null int64\n",
      "DAYS_CREDIT               1004 non-null int64\n",
      "DAYS_CREDIT_ENDDATE       1004 non-null float64\n",
      "DAYS_CREDIT_UPDATE        1004 non-null int64\n",
      "DAYS_ENDDATE_FACT         1004 non-null float64\n",
      "SK_ID_BUREAU              1004 non-null int64\n",
      "dtypes: float64(8), int64(8)\n",
      "memory usage: 133.3 KB\n"
     ]
    }
   ],
   "source": [
    "df_bureau_pivot.info()"
   ]
  },
  {
   "cell_type": "code",
   "execution_count": null,
   "metadata": {},
   "outputs": [],
   "source": []
  }
 ],
 "metadata": {
  "kernelspec": {
   "display_name": "Python 3",
   "language": "python",
   "name": "python3"
  },
  "language_info": {
   "codemirror_mode": {
    "name": "ipython",
    "version": 3
   },
   "file_extension": ".py",
   "mimetype": "text/x-python",
   "name": "python",
   "nbconvert_exporter": "python",
   "pygments_lexer": "ipython3",
   "version": "3.6.5"
  }
 },
 "nbformat": 4,
 "nbformat_minor": 2
}
