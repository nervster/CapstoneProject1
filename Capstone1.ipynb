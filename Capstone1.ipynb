{
 "cells": [
  {
   "cell_type": "code",
   "execution_count": 1,
   "metadata": {},
   "outputs": [],
   "source": [
    "import pandas as pd\n",
    "import numpy as np\n"
   ]
  },
  {
   "cell_type": "code",
   "execution_count": 2,
   "metadata": {},
   "outputs": [],
   "source": [
    "df_application_train = pd.read_csv('application_train.csv',header=0,error_bad_lines=False,index_col=['SK_ID_CURR'],nrows=100000)\n",
    "df_previous_application = pd.read_csv('previous_application.csv',header=0,error_bad_lines=False,index_col=['SK_ID_CURR'],nrows=500000)\n",
    "df_installment_payments = pd.read_csv('installments_payments.csv',header=0,error_bad_lines=False,index_col=['SK_ID_CURR'],nrows=500000)\n",
    "df_bureau = pd.read_csv('bureau.csv',header=0,error_bad_lines=False,index_col=['SK_ID_CURR'],nrows=500000)\n",
    "df_bureau_bal = pd.read_csv('bureau_balance.csv',header=0,error_bad_lines=False,index_col=0,nrows=5000)\n",
    "df_pos_cash_bal = pd.read_csv('POS_CASH_balance.csv',header=0,error_bad_lines=False,index_col=['SK_ID_CURR'],nrows=5000)\n",
    "df_credit_card_bal = pd.read_csv('credit_card_balance.csv',header=0,error_bad_lines=False,nrows=5000)\n",
    "\n",
    "dflist = [df_application_train,df_previous_application,df_installment_payments,df_bureau,df_bureau_bal,df_pos_cash_bal,df_credit_card_bal]\n"
   ]
  },
  {
   "cell_type": "markdown",
   "metadata": {},
   "source": [
    "Started with Previous Application Dataset because it had historical information about the application. My main focus was on 3 noticable columns. \n",
    "\n",
    "1. FLAG_LAST_APPL_PER_CONTRACT: If this column had the value of 'N', then it was more than likely a mistake or duplicate of another application. My thought is that this maybe unnecessary data to the purpose of this project.\n",
    "\n",
    "2. AMT_APPLICATION: This column states how much the applicant has asked for from the bank. \n",
    "\n",
    "3. AMT_CREDIT: This column states how much the bank as credited the applicant.\n",
    "\n",
    "        My thought is if (2) and (3) are 0, then the application is incomplete and it would not provide me with additional information about the application. Thus I should remove these rows from my dataset.\n",
    "        \n",
    "        \n",
    "In the next cell, I have worked on removing those rows from the previous_application dataset. "
   ]
  },
  {
   "cell_type": "code",
   "execution_count": 3,
   "metadata": {},
   "outputs": [],
   "source": [
    "df_previous_application = df_previous_application.drop(df_previous_application[df_previous_application['FLAG_LAST_APPL_PER_CONTRACT']=='N'].index)\n",
    "df_previous_application = df_previous_application.drop(df_previous_application[(df_previous_application['AMT_APPLICATION']==0.0) & (df_previous_application['AMT_CREDIT']==0.0)].index)\n",
    "\n"
   ]
  },
  {
   "cell_type": "markdown",
   "metadata": {},
   "source": [
    "In the next cell, the 'RATE_DOWN_PAYMENT','RATE_INTEREST_PRIMARY', and 'RATE_INTEREST_PRIVILEGED' columns had 'NaN' values. Because I will be aggregating the columns to merge them into the main dataset (application_train), I should replace the NaN values with 0. "
   ]
  },
  {
   "cell_type": "code",
   "execution_count": 4,
   "metadata": {},
   "outputs": [],
   "source": [
    "df_previous_application[['RATE_DOWN_PAYMENT','RATE_INTEREST_PRIMARY','RATE_INTEREST_PRIVILEGED']] = df_previous_application[['RATE_DOWN_PAYMENT','RATE_INTEREST_PRIMARY','RATE_INTEREST_PRIVILEGED']].fillna(0.0)"
   ]
  },
  {
   "cell_type": "markdown",
   "metadata": {},
   "source": [
    "Below is where I aggreagated the previous_application dataset by using index 'SK_ID_CURR'. The purpose of this is so I can provide a 1:1 relationship to the main"
   ]
  },
  {
   "cell_type": "code",
   "execution_count": 5,
   "metadata": {},
   "outputs": [],
   "source": [
    "df_prevapp_pivot = pd.pivot_table(df_previous_application,values=df_previous_application.columns,index='SK_ID_CURR',aggfunc={'SK_ID_PREV':(lambda x: len(x.unique())), 'NAME_CONTRACT_TYPE': (lambda x: len(x.unique())), 'AMT_ANNUITY':'sum', 'AMT_APPLICATION': 'sum',\n",
    "       'AMT_CREDIT':'sum', 'AMT_DOWN_PAYMENT':'sum', 'AMT_GOODS_PRICE':'sum',\n",
    "       'WEEKDAY_APPR_PROCESS_START':(lambda x: len(x.unique())), 'HOUR_APPR_PROCESS_START':np.mean,\n",
    "       'FLAG_LAST_APPL_PER_CONTRACT':(lambda x: len(x.unique())), 'NFLAG_LAST_APPL_IN_DAY':(lambda x: len(x.unique())),\n",
    "       'RATE_DOWN_PAYMENT':np.mean, 'RATE_INTEREST_PRIMARY':np.mean,\n",
    "       'RATE_INTEREST_PRIVILEGED':np.mean, 'NAME_CASH_LOAN_PURPOSE':(lambda x: len(x.unique())),\n",
    "       'NAME_CONTRACT_STATUS':(lambda x:x.map({'Approved':1,'Canceled':0,'Refused':0,'Unused offer':1}).mean()), 'DAYS_DECISION':np.mean, 'NAME_PAYMENT_TYPE':(lambda x: len(x.unique())),\n",
    "       'CODE_REJECT_REASON':(lambda x: len(x.unique())), 'NAME_TYPE_SUITE':(lambda x: len(x.unique())), 'NAME_CLIENT_TYPE':(lambda x: len(x.unique())),\n",
    "       'NAME_GOODS_CATEGORY':(lambda x: len(x.unique())), 'NAME_PORTFOLIO':(lambda x: len(x.unique())), 'NAME_PRODUCT_TYPE':(lambda x: len(x.unique())),\n",
    "       'CHANNEL_TYPE':(lambda x: len(x.unique())), 'SELLERPLACE_AREA':(lambda x: len(x.unique())), 'NAME_SELLER_INDUSTRY':(lambda x: len(x.unique())),\n",
    "       'CNT_PAYMENT':'sum', 'NAME_YIELD_GROUP':(lambda x: len(x.unique())), 'PRODUCT_COMBINATION':(lambda x: len(x.unique())),\n",
    "       'DAYS_FIRST_DRAWING':'sum', 'DAYS_FIRST_DUE':'sum', 'DAYS_LAST_DUE_1ST_VERSION':'sum',\n",
    "       'DAYS_LAST_DUE':'sum', 'DAYS_TERMINATION':'sum', 'NFLAG_INSURED_ON_APPROVAL':np.mean})"
   ]
  },
  {
   "cell_type": "code",
   "execution_count": 6,
   "metadata": {},
   "outputs": [
    {
     "data": {
      "text/html": [
       "<div>\n",
       "<style scoped>\n",
       "    .dataframe tbody tr th:only-of-type {\n",
       "        vertical-align: middle;\n",
       "    }\n",
       "\n",
       "    .dataframe tbody tr th {\n",
       "        vertical-align: top;\n",
       "    }\n",
       "\n",
       "    .dataframe thead th {\n",
       "        text-align: right;\n",
       "    }\n",
       "</style>\n",
       "<table border=\"1\" class=\"dataframe\">\n",
       "  <thead>\n",
       "    <tr style=\"text-align: right;\">\n",
       "      <th></th>\n",
       "      <th>AMT_ANNUITY</th>\n",
       "      <th>AMT_APPLICATION</th>\n",
       "      <th>AMT_CREDIT</th>\n",
       "      <th>AMT_DOWN_PAYMENT</th>\n",
       "      <th>AMT_GOODS_PRICE</th>\n",
       "      <th>CHANNEL_TYPE</th>\n",
       "      <th>CNT_PAYMENT</th>\n",
       "      <th>CODE_REJECT_REASON</th>\n",
       "      <th>DAYS_DECISION</th>\n",
       "      <th>DAYS_FIRST_DRAWING</th>\n",
       "      <th>...</th>\n",
       "      <th>NAME_YIELD_GROUP</th>\n",
       "      <th>NFLAG_INSURED_ON_APPROVAL</th>\n",
       "      <th>NFLAG_LAST_APPL_IN_DAY</th>\n",
       "      <th>PRODUCT_COMBINATION</th>\n",
       "      <th>RATE_DOWN_PAYMENT</th>\n",
       "      <th>RATE_INTEREST_PRIMARY</th>\n",
       "      <th>RATE_INTEREST_PRIVILEGED</th>\n",
       "      <th>SELLERPLACE_AREA</th>\n",
       "      <th>SK_ID_PREV</th>\n",
       "      <th>WEEKDAY_APPR_PROCESS_START</th>\n",
       "    </tr>\n",
       "    <tr>\n",
       "      <th>SK_ID_CURR</th>\n",
       "      <th></th>\n",
       "      <th></th>\n",
       "      <th></th>\n",
       "      <th></th>\n",
       "      <th></th>\n",
       "      <th></th>\n",
       "      <th></th>\n",
       "      <th></th>\n",
       "      <th></th>\n",
       "      <th></th>\n",
       "      <th></th>\n",
       "      <th></th>\n",
       "      <th></th>\n",
       "      <th></th>\n",
       "      <th></th>\n",
       "      <th></th>\n",
       "      <th></th>\n",
       "      <th></th>\n",
       "      <th></th>\n",
       "      <th></th>\n",
       "      <th></th>\n",
       "    </tr>\n",
       "  </thead>\n",
       "  <tbody>\n",
       "    <tr>\n",
       "      <th>100001</th>\n",
       "      <td>3951.000</td>\n",
       "      <td>24835.5</td>\n",
       "      <td>23787.0</td>\n",
       "      <td>2520.0</td>\n",
       "      <td>24835.5</td>\n",
       "      <td>1</td>\n",
       "      <td>8.0</td>\n",
       "      <td>1</td>\n",
       "      <td>-1740.0</td>\n",
       "      <td>365243.0</td>\n",
       "      <td>...</td>\n",
       "      <td>1</td>\n",
       "      <td>0.0</td>\n",
       "      <td>1</td>\n",
       "      <td>1</td>\n",
       "      <td>0.104326</td>\n",
       "      <td>0.0</td>\n",
       "      <td>0.0</td>\n",
       "      <td>1</td>\n",
       "      <td>1</td>\n",
       "      <td>1</td>\n",
       "    </tr>\n",
       "    <tr>\n",
       "      <th>100006</th>\n",
       "      <td>24246.000</td>\n",
       "      <td>675000.0</td>\n",
       "      <td>675000.0</td>\n",
       "      <td>0.0</td>\n",
       "      <td>675000.0</td>\n",
       "      <td>1</td>\n",
       "      <td>48.0</td>\n",
       "      <td>1</td>\n",
       "      <td>-181.0</td>\n",
       "      <td>365243.0</td>\n",
       "      <td>...</td>\n",
       "      <td>1</td>\n",
       "      <td>0.0</td>\n",
       "      <td>1</td>\n",
       "      <td>1</td>\n",
       "      <td>0.000000</td>\n",
       "      <td>0.0</td>\n",
       "      <td>0.0</td>\n",
       "      <td>1</td>\n",
       "      <td>1</td>\n",
       "      <td>1</td>\n",
       "    </tr>\n",
       "    <tr>\n",
       "      <th>100007</th>\n",
       "      <td>29520.585</td>\n",
       "      <td>405000.0</td>\n",
       "      <td>464400.0</td>\n",
       "      <td>0.0</td>\n",
       "      <td>405000.0</td>\n",
       "      <td>2</td>\n",
       "      <td>66.0</td>\n",
       "      <td>1</td>\n",
       "      <td>-866.0</td>\n",
       "      <td>365243.0</td>\n",
       "      <td>...</td>\n",
       "      <td>2</td>\n",
       "      <td>0.0</td>\n",
       "      <td>1</td>\n",
       "      <td>2</td>\n",
       "      <td>0.000000</td>\n",
       "      <td>0.0</td>\n",
       "      <td>0.0</td>\n",
       "      <td>2</td>\n",
       "      <td>2</td>\n",
       "      <td>2</td>\n",
       "    </tr>\n",
       "    <tr>\n",
       "      <th>100008</th>\n",
       "      <td>17885.835</td>\n",
       "      <td>162598.5</td>\n",
       "      <td>162598.5</td>\n",
       "      <td>0.0</td>\n",
       "      <td>162598.5</td>\n",
       "      <td>1</td>\n",
       "      <td>10.0</td>\n",
       "      <td>1</td>\n",
       "      <td>-370.0</td>\n",
       "      <td>365243.0</td>\n",
       "      <td>...</td>\n",
       "      <td>1</td>\n",
       "      <td>0.0</td>\n",
       "      <td>1</td>\n",
       "      <td>1</td>\n",
       "      <td>0.000000</td>\n",
       "      <td>0.0</td>\n",
       "      <td>0.0</td>\n",
       "      <td>1</td>\n",
       "      <td>1</td>\n",
       "      <td>1</td>\n",
       "    </tr>\n",
       "    <tr>\n",
       "      <th>100009</th>\n",
       "      <td>8996.760</td>\n",
       "      <td>98239.5</td>\n",
       "      <td>98239.5</td>\n",
       "      <td>0.0</td>\n",
       "      <td>98239.5</td>\n",
       "      <td>1</td>\n",
       "      <td>12.0</td>\n",
       "      <td>1</td>\n",
       "      <td>-449.0</td>\n",
       "      <td>365243.0</td>\n",
       "      <td>...</td>\n",
       "      <td>1</td>\n",
       "      <td>0.0</td>\n",
       "      <td>1</td>\n",
       "      <td>1</td>\n",
       "      <td>0.000000</td>\n",
       "      <td>0.0</td>\n",
       "      <td>0.0</td>\n",
       "      <td>1</td>\n",
       "      <td>1</td>\n",
       "      <td>1</td>\n",
       "    </tr>\n",
       "  </tbody>\n",
       "</table>\n",
       "<p>5 rows × 36 columns</p>\n",
       "</div>"
      ],
      "text/plain": [
       "            AMT_ANNUITY  AMT_APPLICATION  AMT_CREDIT  AMT_DOWN_PAYMENT  \\\n",
       "SK_ID_CURR                                                               \n",
       "100001         3951.000          24835.5     23787.0            2520.0   \n",
       "100006        24246.000         675000.0    675000.0               0.0   \n",
       "100007        29520.585         405000.0    464400.0               0.0   \n",
       "100008        17885.835         162598.5    162598.5               0.0   \n",
       "100009         8996.760          98239.5     98239.5               0.0   \n",
       "\n",
       "            AMT_GOODS_PRICE  CHANNEL_TYPE  CNT_PAYMENT  CODE_REJECT_REASON  \\\n",
       "SK_ID_CURR                                                                   \n",
       "100001              24835.5             1          8.0                   1   \n",
       "100006             675000.0             1         48.0                   1   \n",
       "100007             405000.0             2         66.0                   1   \n",
       "100008             162598.5             1         10.0                   1   \n",
       "100009              98239.5             1         12.0                   1   \n",
       "\n",
       "            DAYS_DECISION  DAYS_FIRST_DRAWING             ...              \\\n",
       "SK_ID_CURR                                                ...               \n",
       "100001            -1740.0            365243.0             ...               \n",
       "100006             -181.0            365243.0             ...               \n",
       "100007             -866.0            365243.0             ...               \n",
       "100008             -370.0            365243.0             ...               \n",
       "100009             -449.0            365243.0             ...               \n",
       "\n",
       "            NAME_YIELD_GROUP  NFLAG_INSURED_ON_APPROVAL  \\\n",
       "SK_ID_CURR                                                \n",
       "100001                     1                        0.0   \n",
       "100006                     1                        0.0   \n",
       "100007                     2                        0.0   \n",
       "100008                     1                        0.0   \n",
       "100009                     1                        0.0   \n",
       "\n",
       "            NFLAG_LAST_APPL_IN_DAY  PRODUCT_COMBINATION  RATE_DOWN_PAYMENT  \\\n",
       "SK_ID_CURR                                                                   \n",
       "100001                           1                    1           0.104326   \n",
       "100006                           1                    1           0.000000   \n",
       "100007                           1                    2           0.000000   \n",
       "100008                           1                    1           0.000000   \n",
       "100009                           1                    1           0.000000   \n",
       "\n",
       "            RATE_INTEREST_PRIMARY  RATE_INTEREST_PRIVILEGED  SELLERPLACE_AREA  \\\n",
       "SK_ID_CURR                                                                      \n",
       "100001                        0.0                       0.0                 1   \n",
       "100006                        0.0                       0.0                 1   \n",
       "100007                        0.0                       0.0                 2   \n",
       "100008                        0.0                       0.0                 1   \n",
       "100009                        0.0                       0.0                 1   \n",
       "\n",
       "            SK_ID_PREV  WEEKDAY_APPR_PROCESS_START  \n",
       "SK_ID_CURR                                          \n",
       "100001               1                           1  \n",
       "100006               1                           1  \n",
       "100007               2                           2  \n",
       "100008               1                           1  \n",
       "100009               1                           1  \n",
       "\n",
       "[5 rows x 36 columns]"
      ]
     },
     "execution_count": 6,
     "metadata": {},
     "output_type": "execute_result"
    }
   ],
   "source": [
    "df_prevapp_pivot.head()"
   ]
  },
  {
   "cell_type": "markdown",
   "metadata": {},
   "source": [
    "# Merging previous_application dataset into application_train dataset "
   ]
  },
  {
   "cell_type": "code",
   "execution_count": 7,
   "metadata": {},
   "outputs": [],
   "source": [
    "\n",
    "\n",
    "df = df_application_train.merge(df_prevapp_pivot,on =['SK_ID_CURR'],suffixes=('_app_train','_prev_app'),how='left')"
   ]
  },
  {
   "cell_type": "markdown",
   "metadata": {},
   "source": [
    "# Note the odd data within the columns\n",
    "\n",
    "Days_Employed: 365243 default value\n",
    "\n"
   ]
  },
  {
   "cell_type": "code",
   "execution_count": 8,
   "metadata": {},
   "outputs": [
    {
     "name": "stdout",
     "output_type": "stream",
     "text": [
      "              TARGET   CNT_CHILDREN  AMT_INCOME_TOTAL  AMT_CREDIT_app_train  \\\n",
      "count  100000.000000  100000.000000      1.000000e+05          1.000000e+05   \n",
      "mean        0.080930       0.417390      1.694261e+05          5.990034e+05   \n",
      "std         0.272729       0.721014      3.835007e+05          4.020520e+05   \n",
      "min         0.000000       0.000000      2.565000e+04          4.500000e+04   \n",
      "25%         0.000000       0.000000      1.125000e+05          2.700000e+05   \n",
      "50%         0.000000       0.000000      1.440000e+05          5.130405e+05   \n",
      "75%         0.000000       1.000000      2.025000e+05          8.086500e+05   \n",
      "max         1.000000      12.000000      1.170000e+08          4.050000e+06   \n",
      "\n",
      "       AMT_ANNUITY_app_train  AMT_GOODS_PRICE_app_train  \\\n",
      "count           99993.000000               9.991900e+04   \n",
      "mean            27085.325928               5.383451e+05   \n",
      "std             14459.617534               3.693977e+05   \n",
      "min              1980.000000               4.500000e+04   \n",
      "25%             16456.500000               2.385000e+05   \n",
      "50%             24903.000000               4.500000e+05   \n",
      "75%             34596.000000               6.795000e+05   \n",
      "max            258025.500000               4.050000e+06   \n",
      "\n",
      "       REGION_POPULATION_RELATIVE     DAYS_BIRTH  DAYS_EMPLOYED  \\\n",
      "count               100000.000000  100000.000000  100000.000000   \n",
      "mean                     0.020844  -16026.453260   63292.222060   \n",
      "std                      0.013811    4368.307878  140839.697296   \n",
      "min                      0.000533  -25201.000000  -17531.000000   \n",
      "25%                      0.010006  -19668.000000   -2758.000000   \n",
      "50%                      0.018850  -15742.000000   -1219.000000   \n",
      "75%                      0.028663  -12390.750000    -291.000000   \n",
      "max                      0.072508   -7676.000000  365243.000000   \n",
      "\n",
      "       DAYS_REGISTRATION                 ...                   \\\n",
      "count      100000.000000                 ...                    \n",
      "mean        -4983.270200                 ...                    \n",
      "std          3524.517212                 ...                    \n",
      "min        -22392.000000                 ...                    \n",
      "25%         -7474.250000                 ...                    \n",
      "50%         -4490.000000                 ...                    \n",
      "75%         -2013.000000                 ...                    \n",
      "max             0.000000                 ...                    \n",
      "\n",
      "       NAME_YIELD_GROUP  NFLAG_INSURED_ON_APPROVAL  NFLAG_LAST_APPL_IN_DAY  \\\n",
      "count      46168.000000               41794.000000            46168.000000   \n",
      "mean           1.421569                   0.285409                1.000866   \n",
      "std            0.659436                   0.407138                0.029422   \n",
      "min            1.000000                   0.000000                1.000000   \n",
      "25%            1.000000                   0.000000                1.000000   \n",
      "50%            1.000000                   0.000000                1.000000   \n",
      "75%            2.000000                   0.500000                1.000000   \n",
      "max            5.000000                   1.000000                2.000000   \n",
      "\n",
      "       PRODUCT_COMBINATION  RATE_DOWN_PAYMENT  RATE_INTEREST_PRIMARY  \\\n",
      "count         46168.000000       46168.000000           46168.000000   \n",
      "mean              1.487221           0.056648               0.001090   \n",
      "std               0.765826           0.088521               0.013157   \n",
      "min               1.000000           0.000000               0.000000   \n",
      "25%               1.000000           0.000000               0.000000   \n",
      "50%               1.000000           0.000000               0.000000   \n",
      "75%               2.000000           0.101016               0.000000   \n",
      "max               8.000000           0.944776               0.654568   \n",
      "\n",
      "       RATE_INTEREST_PRIVILEGED  SELLERPLACE_AREA    SK_ID_PREV  \\\n",
      "count              46168.000000      46168.000000  46168.000000   \n",
      "mean                   0.004709          1.439460      1.700918   \n",
      "std                    0.055664          0.723538      1.072625   \n",
      "min                    0.000000          1.000000      1.000000   \n",
      "25%                    0.000000          1.000000      1.000000   \n",
      "50%                    0.000000          1.000000      1.000000   \n",
      "75%                    0.000000          2.000000      2.000000   \n",
      "max                    0.867336          9.000000     16.000000   \n",
      "\n",
      "       WEEKDAY_APPR_PROCESS_START_prev_app  \n",
      "count                         46168.000000  \n",
      "mean                              1.497466  \n",
      "std                               0.771508  \n",
      "min                               1.000000  \n",
      "25%                               1.000000  \n",
      "50%                               1.000000  \n",
      "75%                               2.000000  \n",
      "max                               7.000000  \n",
      "\n",
      "[8 rows x 141 columns]\n"
     ]
    }
   ],
   "source": [
    "print(df.describe())"
   ]
  },
  {
   "cell_type": "markdown",
   "metadata": {},
   "source": [
    "# Aggreagated Bureau & Installment datasets and then merged into dataset"
   ]
  },
  {
   "cell_type": "code",
   "execution_count": 9,
   "metadata": {},
   "outputs": [],
   "source": [
    "df_bureau_pivot = pd.pivot_table(df_bureau,values=df_bureau.columns,index='SK_ID_CURR',aggfunc={'SK_ID_BUREAU':'count','CREDIT_ACTIVE':'count','CREDIT_CURRENCY':(lambda x: len(x.unique())),'DAYS_CREDIT':np.min,'CREDIT_DAY_OVERDUE':'sum','DAYS_CREDIT_ENDDATE':'sum', 'DAYS_ENDDATE_FACT':'sum', 'AMT_CREDIT_MAX_OVERDUE':'sum', 'CNT_CREDIT_PROLONG':'sum', 'AMT_CREDIT_SUM':'sum','AMT_CREDIT_SUM_DEBT':'sum', 'AMT_CREDIT_SUM_LIMIT':'sum', 'AMT_CREDIT_SUM_OVERDUE':'sum',\n",
    "       'CREDIT_TYPE':(lambda x: len(x.unique())), 'DAYS_CREDIT_UPDATE':np.min, 'AMT_ANNUITY':'sum'})"
   ]
  },
  {
   "cell_type": "code",
   "execution_count": 10,
   "metadata": {},
   "outputs": [],
   "source": [
    "df = df.merge(df_bureau_pivot,on =['SK_ID_CURR'],suffixes=('_curr','_bur'),how='left')"
   ]
  },
  {
   "cell_type": "code",
   "execution_count": 11,
   "metadata": {},
   "outputs": [],
   "source": [
    "df_installment_payments_pivot = pd.pivot_table(df_installment_payments,values=df_installment_payments.columns,index='SK_ID_CURR',aggfunc={'SK_ID_PREV':(lambda x: len(x.unique())),'NUM_INSTALMENT_VERSION':'sum', 'NUM_INSTALMENT_NUMBER':'sum','DAYS_INSTALMENT':'sum', 'DAYS_ENTRY_PAYMENT':'sum', 'AMT_INSTALMENT':'sum','AMT_PAYMENT':'sum'})                                                                                                                      "
   ]
  },
  {
   "cell_type": "markdown",
   "metadata": {},
   "source": [
    "# Added Columns to show differences before merging\n",
    "\n",
    "\n",
    "AMT_INSTAL_PAY_DIFF: I believe that knowing how much the applicant has paid back in the past would be a good indicator for the future\n",
    "\n",
    "NUM_INSTAL_VERSION_NUM_DIFF: I believe knowing how fast or slow the previous load was paid would also be a good indicator.\n",
    "\n",
    "DAY_INSTAL_ENTRY_DIFF: Similar to NUM_INSTAL_VERSION_NUM_DIFF"
   ]
  },
  {
   "cell_type": "code",
   "execution_count": 12,
   "metadata": {},
   "outputs": [],
   "source": [
    "df_installment_payments_pivot['AMT_INSTAL_PAY_DIFF'] = df_installment_payments_pivot['AMT_INSTALMENT']-df_installment_payments_pivot['AMT_PAYMENT']\n",
    "df_installment_payments_pivot['NUM_INSTAL_VERSION_NUM_DIFF'] = df_installment_payments_pivot['NUM_INSTALMENT_VERSION']-df_installment_payments_pivot['NUM_INSTALMENT_NUMBER']\n",
    "df_installment_payments_pivot['DAY_INSTAL_ENTRY_DIFF'] = df_installment_payments_pivot['DAYS_INSTALMENT']-df_installment_payments_pivot['DAYS_ENTRY_PAYMENT']\n"
   ]
  },
  {
   "cell_type": "code",
   "execution_count": 13,
   "metadata": {},
   "outputs": [],
   "source": [
    "df = df.merge(df_installment_payments_pivot,on =['SK_ID_CURR'],suffixes=('_curr2','_instpay'),how='left')"
   ]
  },
  {
   "cell_type": "code",
   "execution_count": 22,
   "metadata": {},
   "outputs": [
    {
     "name": "stdout",
     "output_type": "stream",
     "text": [
      "<class 'pandas.core.frame.DataFrame'>\n",
      "Int64Index: 100000 entries, 100002 to 216090\n",
      "Columns: 184 entries, TARGET to BANKED\n",
      "dtypes: bool(1), float64(127), int64(40), object(16)\n",
      "memory usage: 143.0+ MB\n",
      "None\n"
     ]
    }
   ],
   "source": [
    "print(df.info())"
   ]
  },
  {
   "cell_type": "code",
   "execution_count": 15,
   "metadata": {},
   "outputs": [],
   "source": [
    "df['BANKED']= df.index.isin(df_bureau.index)"
   ]
  },
  {
   "cell_type": "code",
   "execution_count": null,
   "metadata": {},
   "outputs": [],
   "source": []
  }
 ],
 "metadata": {
  "kernelspec": {
   "display_name": "Python 3",
   "language": "python",
   "name": "python3"
  },
  "language_info": {
   "codemirror_mode": {
    "name": "ipython",
    "version": 3
   },
   "file_extension": ".py",
   "mimetype": "text/x-python",
   "name": "python",
   "nbconvert_exporter": "python",
   "pygments_lexer": "ipython3",
   "version": "3.6.5"
  }
 },
 "nbformat": 4,
 "nbformat_minor": 2
}
