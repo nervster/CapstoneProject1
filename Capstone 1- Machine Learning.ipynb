{
 "cells": [
  {
   "cell_type": "code",
   "execution_count": 1,
   "metadata": {},
   "outputs": [
    {
     "name": "stderr",
     "output_type": "stream",
     "text": [
      "/home/nervster/anaconda3/lib/python3.6/site-packages/sklearn/cross_validation.py:41: DeprecationWarning: This module was deprecated in version 0.18 in favor of the model_selection module into which all the refactored classes and functions are moved. Also note that the interface of the new CV iterators are different from that of this module. This module will be removed in 0.20.\n",
      "  \"This module will be removed in 0.20.\", DeprecationWarning)\n"
     ]
    }
   ],
   "source": [
    "#Library Imports\n",
    "\n",
    "from sklearn.model_selection import train_test_split\n",
    "import pickle as pk\n",
    "from sklearn.ensemble import RandomForestClassifier\n",
    "import pandas as pd\n",
    "import numpy as np\n",
    "from sklearn.cross_validation import cross_val_score\n",
    "import seaborn as sns\n",
    "import matplotlib.pyplot as plt\n",
    "from sklearn import metrics\n",
    "from sklearn import svm\n",
    "from sklearn import neighbors\n",
    "from sklearn.metrics import confusion_matrix\n",
    "from sklearn.preprocessing import MinMaxScaler\n",
    "from sklearn.model_selection import GridSearchCV\n",
    "\n",
    "\n",
    "#Allows to see up to 500 columns within notebook\n",
    "pd.set_option('display.max_rows',500)\n",
    "pd.set_option('display.max_columns',500)\n",
    "pd.set_option('display.width',1000)\n",
    "\n"
   ]
  },
  {
   "cell_type": "code",
   "execution_count": 2,
   "metadata": {},
   "outputs": [],
   "source": [
    "#Function to find ML Scores\n",
    "def scores(ytest,ypredicted):\n",
    "    tn, fp, fn, tp = confusion_matrix(ytest, ypredicted).ravel()\n",
    "    recall = tp / (tp + fn)\n",
    "    prec = tp / (tp + fp)\n",
    "    F1 = 2 * recall * prec / (recall + prec)\n",
    "    return(\"recall:\",recall, \"prec:\",prec,\"F1:\", F1)\n"
   ]
  },
  {
   "cell_type": "code",
   "execution_count": 3,
   "metadata": {},
   "outputs": [
    {
     "name": "stdout",
     "output_type": "stream",
     "text": [
      "<class 'pandas.core.frame.DataFrame'>\n",
      "Int64Index: 10000 entries, 100002 to 111633\n",
      "Data columns (total 15 columns):\n",
      "AMT_CREDIT_app_train         10000 non-null float64\n",
      "AMT_ANNUITY_app_train        10000 non-null float64\n",
      "AMT_GOODS_PRICE_app_train    10000 non-null float64\n",
      "DAYS_BIRTH                   10000 non-null int64\n",
      "DAYS_REGISTRATION            10000 non-null float64\n",
      "DAYS_ID_PUBLISH              10000 non-null int64\n",
      "DAYS_LAST_PHONE_CHANGE       10000 non-null float64\n",
      "AMT_CREDIT_prev_app          10000 non-null float64\n",
      "AMT_DOWN_PAYMENT             10000 non-null float64\n",
      "AMT_GOODS_PRICE_prev_app     10000 non-null float64\n",
      "AMT_ANNUITY                  10000 non-null float64\n",
      "AMT_CREDIT_SUM_LIMIT         10000 non-null float64\n",
      "AMT_INSTALMENT               10000 non-null float64\n",
      "TARGET                       10000 non-null int64\n",
      "AMT_INCOME_TOTAL             10000 non-null float64\n",
      "dtypes: float64(12), int64(3)\n",
      "memory usage: 1.2 MB\n"
     ]
    }
   ],
   "source": [
    "#Load Pickled dataset from previous Workbook\n",
    "pickle_in = open(\"df_pickle.pkl\",\"rb\")\n",
    "df = pk.load(pickle_in)\n",
    "type(df)\n",
    "df.info()"
   ]
  },
  {
   "cell_type": "code",
   "execution_count": 4,
   "metadata": {},
   "outputs": [],
   "source": [
    "#Create X and Y splits to train ML Algos\n",
    "y = df.TARGET\n",
    "x = df.drop(['TARGET'],axis=1)"
   ]
  },
  {
   "cell_type": "code",
   "execution_count": 5,
   "metadata": {},
   "outputs": [
    {
     "data": {
      "text/plain": [
       "array([[0.12400463, 0.16577233, 0.11854103, ..., 0.        , 0.        ,\n",
       "        0.09262314],\n",
       "       [0.42815586, 0.24825352, 0.38145897, ..., 0.        , 0.06146219,\n",
       "        0.12797549],\n",
       "       [0.0308642 , 0.03114981, 0.04559271, ..., 0.        , 0.        ,\n",
       "        0.02191845],\n",
       "       ...,\n",
       "       [0.15518519, 0.38236982, 0.15197568, ..., 0.        , 0.        ,\n",
       "        0.10440726],\n",
       "       [0.104     , 0.18784381, 0.10638298, ..., 0.        , 0.00765902,\n",
       "        0.17511195],\n",
       "       [0.10649383, 0.1210894 , 0.09118541, ..., 0.        , 0.        ,\n",
       "        0.03605939]])"
      ]
     },
     "execution_count": 5,
     "metadata": {},
     "output_type": "execute_result"
    }
   ],
   "source": [
    "#Resulted in lower F1/AUC Score\n",
    "minmaxscaler = MinMaxScaler()\n",
    "x_normed = minmaxscaler.fit_transform(x)\n",
    "x_normed"
   ]
  },
  {
   "cell_type": "code",
   "execution_count": 6,
   "metadata": {},
   "outputs": [],
   "source": [
    "#Use Train_Test_Split to create Test Set\n",
    "x_train,x_test,y_train,y_test = train_test_split(x,y,test_size=.2)\n"
   ]
  },
  {
   "cell_type": "code",
   "execution_count": 7,
   "metadata": {
    "scrolled": true
   },
   "outputs": [
    {
     "name": "stdout",
     "output_type": "stream",
     "text": [
      "[0.5186141304347827]\n"
     ]
    },
    {
     "data": {
      "text/plain": [
       "('recall:', 0.10625, 'prec:', 0.11805555555555555, 'F1:', 0.1118421052631579)"
      ]
     },
     "execution_count": 7,
     "metadata": {},
     "output_type": "execute_result"
    }
   ],
   "source": [
    "score = []\n",
    "#Train Classifier: Random Forest\n",
    "clf = RandomForestClassifier(n_estimators=1,class_weight={0:1,1:100000})\n",
    "\n",
    "#Fit classifier to Train data set\n",
    "clf.fit(x_train,y_train)\n",
    "\n",
    "#Predict Proba\n",
    "\n",
    "y_predict_test = clf.predict(x_test)\n",
    "\n",
    "#auc score\n",
    "auc_test = metrics.roc_auc_score(y_test, y_predict_test)\n",
    "score.append(auc_test)\n",
    "print(score)\n",
    "\n",
    "scores(y_test,y_predict_test)"
   ]
  },
  {
   "cell_type": "code",
   "execution_count": 8,
   "metadata": {},
   "outputs": [
    {
     "name": "stdout",
     "output_type": "stream",
     "text": [
      "0.5\n"
     ]
    },
    {
     "name": "stderr",
     "output_type": "stream",
     "text": [
      "/home/nervster/anaconda3/lib/python3.6/site-packages/ipykernel_launcher.py:5: RuntimeWarning: invalid value encountered in long_scalars\n",
      "  \"\"\"\n"
     ]
    },
    {
     "data": {
      "text/plain": [
       "('recall:', 0.0, 'prec:', nan, 'F1:', nan)"
      ]
     },
     "execution_count": 8,
     "metadata": {},
     "output_type": "execute_result"
    }
   ],
   "source": [
    "#SVM\n",
    "clf = svm.SVC(C=.3)\n",
    "clf.fit(x_train,y_train)\n",
    "y_predict_test_s= clf.predict(x_test)\n",
    "\n",
    "auc_score=metrics.roc_auc_score(y_test,y_predict_test_s)\n",
    "print(auc_score)\n",
    "\n",
    "scores(y_test,y_predict_test_s)"
   ]
  },
  {
   "cell_type": "code",
   "execution_count": null,
   "metadata": {},
   "outputs": [],
   "source": []
  },
  {
   "cell_type": "code",
   "execution_count": 9,
   "metadata": {},
   "outputs": [
    {
     "name": "stdout",
     "output_type": "stream",
     "text": [
      "0.5019021739130435\n"
     ]
    },
    {
     "data": {
      "text/plain": [
       "('recall:', 0.0125, 'prec:', 0.1111111111111111, 'F1:', 0.022471910112359553)"
      ]
     },
     "execution_count": 9,
     "metadata": {},
     "output_type": "execute_result"
    }
   ],
   "source": [
    "#KNN\n",
    "\n",
    "knn=neighbors.KNeighborsClassifier()\n",
    "knn.fit(x_train,y_train)\n",
    "y_predict_test_knn = knn.predict(x_test)\n",
    "\n",
    "auc_score=metrics.roc_auc_score(y_test,y_predict_test_knn)\n",
    "print(auc_score)\n",
    "\n",
    "scores(y_test,y_predict_test_knn)"
   ]
  },
  {
   "cell_type": "code",
   "execution_count": null,
   "metadata": {},
   "outputs": [],
   "source": []
  },
  {
   "cell_type": "code",
   "execution_count": 10,
   "metadata": {},
   "outputs": [
    {
     "data": {
      "text/plain": [
       "0.923125"
      ]
     },
     "execution_count": 10,
     "metadata": {},
     "output_type": "execute_result"
    }
   ],
   "source": [
    "\n",
    "\n",
    "param_grid = {'n_neighbors':np.arange(1,50)}\n",
    "\n",
    "knn_cv = GridSearchCV(knn,param_grid,cv=5)\n",
    "knn_cv.fit(x_train,y_train)\n",
    "knn_cv.best_params_\n",
    "knn_cv.best_score_\n",
    "\n",
    "#y_gridsearch_test = knn_cv.predict(x_test)\n",
    "#auc_score=metrics.roc_auc_score(y_test,y_gridsearch_test)\n",
    "#print(auc_score)"
   ]
  },
  {
   "cell_type": "code",
   "execution_count": null,
   "metadata": {},
   "outputs": [],
   "source": []
  },
  {
   "cell_type": "code",
   "execution_count": null,
   "metadata": {},
   "outputs": [],
   "source": []
  },
  {
   "cell_type": "code",
   "execution_count": null,
   "metadata": {},
   "outputs": [],
   "source": []
  },
  {
   "cell_type": "code",
   "execution_count": null,
   "metadata": {},
   "outputs": [],
   "source": []
  }
 ],
 "metadata": {
  "kernelspec": {
   "display_name": "Python 3",
   "language": "python",
   "name": "python3"
  },
  "language_info": {
   "codemirror_mode": {
    "name": "ipython",
    "version": 3
   },
   "file_extension": ".py",
   "mimetype": "text/x-python",
   "name": "python",
   "nbconvert_exporter": "python",
   "pygments_lexer": "ipython3",
   "version": "3.6.5"
  }
 },
 "nbformat": 4,
 "nbformat_minor": 2
}
